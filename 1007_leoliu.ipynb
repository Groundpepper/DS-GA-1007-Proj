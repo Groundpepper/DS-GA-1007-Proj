{
 "cells": [
  {
   "cell_type": "code",
   "execution_count": 2218,
   "id": "02fe6b55-8465-47f4-b6b1-4ce9899f419d",
   "metadata": {},
   "outputs": [
    {
     "name": "stderr",
     "output_type": "stream",
     "text": [
      "WARNING:root:Requests made without an app_token will be subject to strict throttling limits.\n"
     ]
    }
   ],
   "source": [
    "import pandas as pd\n",
    "import warnings\n",
    "from sodapy import Socrata\n",
    "from datetime import datetime, timedelta\n",
    "from dateutil.relativedelta import relativedelta\n",
    "import numpy as np\n",
    "import matplotlib.pyplot as plt\n",
    "\n",
    "\n",
    "MTA_client = Socrata(\"data.ny.gov\", None)\n",
    "\n",
    "ds_dictionary = {\n",
    "    'ridership': 'vxuj-8kew',\n",
    "    'subway hourly ridership': 'wujg-7c2s',\n",
    "    'bus hourly ridership': 'kv7t-n8in',\n",
    "    'major felonies': 'yeek-jhmu',\n",
    "    'summonses and arrests': '7tfn-twae',\n",
    "    'subway fare evasion': '6kj3-ijvb',\n",
    "    'bus fare evasion': 'uv5h-dfhp',\n",
    "    'headcount 2024': 'ui26-n8p4'\n",
    "}"
   ]
  },
  {
   "cell_type": "code",
   "execution_count": 2480,
   "id": "8094edf0-eee8-4813-acf4-099602f09b91",
   "metadata": {},
   "outputs": [],
   "source": [
    "def get_dataset(ds_name: str, begin: str=None, before: str=None, MTA_client=None) -> pd.DataFrame:\n",
    "    \"\"\"\n",
    "    retrieves a pandas dataframe from a corresponding MTA data source\n",
    "    filters for optional start and end times; careful not passing any start or end times - over 100 million rows for hourly data\n",
    "    assumes the existence of MTA_client\n",
    "    \"\"\"\n",
    "    sample = MTA_client.get(ds_dictionary[ds_name], limit=1)\n",
    "    time_columns = [v for v in sample[0].keys() if v.lower().endswith(('date', 'timestamp', 'month', 'time_period'))]\n",
    "    if MTA_client is None: raise Exception('MTA_client not found; required for connection to data repository')\n",
    "    \n",
    "    if len(time_columns) == 0:\n",
    "        warnings.warn(f'No time column found: {sample[0].keys}')\n",
    "        try:\n",
    "            res_dict = MTA_client.get_all(ds_dictionary[ds_name])\n",
    "            return pd.DataFrame.from_records(res_dict)\n",
    "        except Exception as e:\n",
    "            raise Exception(f\"Couldn't get all rows. Too many? {e}\")\n",
    "\n",
    "    if len(time_columns) > 1:\n",
    "        raise Exception(f'Too many time columns found: {sample.keys}')\n",
    "\n",
    "    where_string = ''\n",
    "    time_column = time_columns[0]\n",
    "    if begin and not before: where_string = f\"{time_column} >= '{begin}'\"\n",
    "    if not begin and before: where_string = f\"{time_column} < '{before}'\"\n",
    "    if begin and before: where_string = f\"{time_column} >= '{begin}' AND {time_column} < '{before}'\"\n",
    "    res_dict = MTA_client.get_all(ds_dictionary[ds_name], where=where_string, order=f'{time_column} ASC')\n",
    "    return pd.DataFrame.from_records(res_dict)\n",
    "\n",
    "\n",
    "def rid_irrelevant_criteria(df: pd.DataFrame, kept: dict) -> pd.DataFrame:\n",
    "    \"\"\"\n",
    "    for a given pandas dataframe, drop column values that match a list of kept values\n",
    "    ie., kept: {'metrics': 'Arrests'} -> all rows w/o 'Arrests' for 'metrics' column are dropped\n",
    "    \"\"\"\n",
    "    keys = set(kept.keys())\n",
    "    if keys.intersection(set(df.columns)) != keys:\n",
    "        raise Exception(f'Kept columns not found in dataframe: {keys.intersection(set(df.columns))}')\n",
    "    for key in keys:\n",
    "        if set(df[key].unique()).intersection(kept[key]) != kept[key]:\n",
    "            raise Exception(f'At least one kept value from column {key} DNE: {kept[key]}') \n",
    "    \n",
    "    for key in keys: \n",
    "        df = df.where(df[key].isin(kept[key])).dropna().reset_index(drop=True)\n",
    "    return df\n",
    "\n",
    "\n",
    "def aggregate_by_timeframe(df: pd.DataFrame, timeframe: str, typ: str) -> pd.DataFrame:\n",
    "    \"\"\"\n",
    "    aggregates a timeframe by timeframe; results are summed or averaged\n",
    "    \"\"\"\n",
    "    if timeframe not in ['hourly', 'daily', 'weekly', 'monthly']:\n",
    "        raise Exception(f'Invalid timeframe {timeframe}')\n",
    "    if typ not in ['mean', 'sum']:\n",
    "        raise Exception(f'Invalid type {typ}')\n",
    "    \n",
    "    time_columns = [v for v in df.columns if v.lower().endswith(('date', 'timestamp', 'month', 'time_period'))]\n",
    "    if len(time_columns) != 1:\n",
    "        raise Exception(f'Zero or more than one time column(s) found: {df.columns}')\n",
    "\n",
    "    time_column = time_columns[0]\n",
    "    df[time_column] = pd.to_datetime(df[time_column])\n",
    "    df = df.sort_values(by=time_column)\n",
    "\n",
    "    for column in df.columns:\n",
    "        if column != time_column:\n",
    "            try:\n",
    "                df[column] = df[column].astype(float)\n",
    "            except ValueError:\n",
    "                warnings.warn(f'Column {column} disregarded for having non-numeric values')\n",
    "            except TypeError:\n",
    "                warnings.warn(f'Column {column} disregarded for having non-numeric values')\n",
    "\n",
    "    df = df.set_index(time_column)\n",
    "    timeframe_dictionary = {'hourly': 'h', 'daily': 'd', 'weekly': 'W', 'monthly': 'ME'}\n",
    "\n",
    "    if typ == 'mean': return df.resample(timeframe_dictionary[timeframe]).mean(numeric_only=True).reset_index() \n",
    "    if typ == 'sum': return df.resample(timeframe_dictionary[timeframe]).sum(numeric_only=True).reset_index() \n",
    "\n",
    "\n",
    "def rolling_average(values, window_size):\n",
    "    values = np.array(values, dtype=float)\n",
    "    rolling_avg = np.full(len(values), np.nan)\n",
    "\n",
    "    for i in range(len(values)):\n",
    "        window = values[max(0, i - window_size + 1):i + 1]\n",
    "        valid_values = window[~np.isnan(window)]\n",
    "    \n",
    "        if len(valid_values) > 0:\n",
    "            rolling_avg[i] = np.mean(valid_values)\n",
    "\n",
    "    return rolling_avg\n"
   ]
  },
  {
   "cell_type": "code",
   "execution_count": 2819,
   "id": "ad0cef8e-a164-4eb1-a591-7b02ade94c04",
   "metadata": {},
   "outputs": [],
   "source": [
    "# df_crimes = get_dataset('summonses and arrests', begin='2024-01-01', before='2024-11-01', MTA_client=MTA_client)\n",
    "# df_crimes = rid_irrelevant_criteria(df_crimes,\n",
    "#         {'metric': {\n",
    "#             'Fare Evasion Arrests',\n",
    "#             'Fare Evasion Criminal Summons',\n",
    "#             'Fare Evasion TABS Summons',\n",
    "#             'Fare Evasion Summons'}})\n",
    "# df_crimes_agg = aggregate_by_timeframe(df_crimes, 'monthly', 'sum')\n",
    "# plt.plot(df_crimes_agg.month, df_crimes_agg.total)\n",
    "# plt.axvline(datetime.strptime('2024-08-14', '%Y-%m-%d'), color='red')"
   ]
  },
  {
   "cell_type": "code",
   "execution_count": 2821,
   "id": "0bbffc85-33ef-47b9-8b81-7cf5c4856b8e",
   "metadata": {},
   "outputs": [],
   "source": [
    "# df_ridership = get_dataset('ridership', begin='2020-06-01', before='2024-11-01', MTA_client=MTA_client)\n",
    "\n",
    "# # df_ridership = aggregate_by_timeframe(df_ridership, 'monthly', 'mean')\n",
    "\n",
    "# df_ridership['date'] = pd.to_datetime(df_ridership['date'])\n",
    "# df_ridership['subways_total_estimated_ridership'] = df_ridership['subways_total_estimated_ridership'].astype(float) \n",
    "# plt.plot(df_ridership.date, df_ridership.subways_total_estimated_ridership\t)\n",
    "# plt.axvline(datetime.strptime('2024-08-14', '%Y-%m-%d'), color='red')"
   ]
  },
  {
   "cell_type": "code",
   "execution_count": 2788,
   "id": "ed59198f-e78f-4b8a-aad9-a87f7d72cdca",
   "metadata": {},
   "outputs": [
    {
     "name": "stderr",
     "output_type": "stream",
     "text": [
      "C:\\Users\\zclle\\AppData\\Local\\Temp\\ipykernel_17020\\1877720799.py:3: UserWarning: Could not infer format, so each element will be parsed individually, falling back to `dateutil`. To ensure parsing is consistent and as-expected, please specify a format.\n",
      "  df_sfe['time_period'] = pd.to_datetime(df_sfe['time_period'])\n"
     ]
    },
    {
     "data": {
      "text/plain": [
       "[<matplotlib.lines.Line2D at 0x2080b9af950>]"
      ]
     },
     "execution_count": 2788,
     "metadata": {},
     "output_type": "execute_result"
    },
    {
     "data": {
      "image/png": "[encoded data removed]",
      "text/plain": [
       "<Figure size 640x480 with 1 Axes>"
      ]
     },
     "metadata": {},
     "output_type": "display_data"
    }
   ],
   "source": [
    "df_sfe = get_dataset('subway fare evasion', begin='2019-01-01', MTA_client=MTA_client)\n",
    "df_sfe['fare_evasion'] = rolling_average(df_sfe['fare_evasion'], 10)\n",
    "df_sfe['time_period'] = pd.to_datetime(df_sfe['time_period'])\n",
    "plt.plot(df_sfe.time_period, df_sfe.fare_evasion.astype(float))"
   ]
  },
  {
   "cell_type": "code",
   "execution_count": 2790,
   "id": "e68ff266-4142-4c91-b76a-901bcd17b56a",
   "metadata": {},
   "outputs": [
    {
     "name": "stderr",
     "output_type": "stream",
     "text": [
      "C:\\Users\\zclle\\AppData\\Local\\Temp\\ipykernel_17020\\3591793856.py:4: UserWarning: Could not infer format, so each element will be parsed individually, falling back to `dateutil`. To ensure parsing is consistent and as-expected, please specify a format.\n",
      "  df_bfe['time_period'] = pd.to_datetime(df_bfe['time_period'])\n"
     ]
    },
    {
     "data": {
      "text/plain": [
       "[<matplotlib.lines.Line2D at 0x2087b705850>]"
      ]
     },
     "execution_count": 2790,
     "metadata": {},
     "output_type": "execute_result"
    },
    {
     "data": {
      "image/png": "[encoded data removed]",
      "text/plain": [
       "<Figure size 640x480 with 1 Axes>"
      ]
     },
     "metadata": {},
     "output_type": "display_data"
    }
   ],
   "source": [
    "df_bfe = get_dataset('bus fare evasion', begin='2019-01-01', MTA_client=MTA_client)\n",
    "df_bfe['ridership']= df_bfe['ridership'].astype(float)\n",
    "df_bfe['fare_evasion'] = df_bfe['fare_evasion'].astype(float)\n",
    "df_bfe['time_period'] = pd.to_datetime(df_bfe['time_period'])\n",
    "\n",
    "# df_bfe = df_bfe.groupby('time_period', as_index=False)[['fare_evasion', 'ridership']].mean()\n",
    "df_bfe = df_bfe[df_bfe.trip_type == 'Local']\n",
    "\n",
    "df_bfe['fare_evasion'] = rolling_average(df_bfe['fare_evasion'], 10)\n",
    "plt.plot(df_bfe.time_period, df_bfe.fare_evasion.astype(float))"
   ]
  },
  {
   "cell_type": "code",
   "execution_count": 2715,
   "id": "5c4371a5-c85f-45cc-9aa7-f4720dbade39",
   "metadata": {},
   "outputs": [
    {
     "name": "stdout",
     "output_type": "stream",
     "text": [
      "[45.86226205 -6.46591046  0.44253581]\n",
      "R^2: 0.953335444601242\n",
      "RMSE 0.014892091357563093\n"
     ]
    },
    {
     "data": {
      "image/png": "[encoded data removed]",
      "text/plain": [
       "<Figure size 640x480 with 1 Axes>"
      ]
     },
     "metadata": {},
     "output_type": "display_data"
    }
   ],
   "source": [
    "def polyfit(x, y, p=2):\n",
    "\n",
    "    X_train, X_test, Y_train, Y_test = train_test_split(x, y, test_size=0.2, random_state=13542009)\n",
    "    \n",
    "    model = np.poly1d(np.polyfit(X_train, Y_train, 2))\n",
    "    line = np.linspace(X_train.min(), X_train.max(), 100)\n",
    "\n",
    "    Y_pred_train = model(X_train)\n",
    "    Y_pred_test = model(X_test)\n",
    "    \n",
    "    plt.scatter(x, y)\n",
    "    plt.xlabel('Subway Ridership Percentage Fare Evasion')\n",
    "    plt.ylabel('Bus Ridership Percentage Fare Evasion')\n",
    "    plt.title('Fare Evasion Prediction Model')\n",
    "\n",
    "    plt.plot(line, model(line))\n",
    "\n",
    "    print(np.polyfit(X_train, Y_train, 2))\n",
    "    \n",
    "    r2 = r2_score(Y_test, Y_pred_test)\n",
    "    print('R^2:', r2)\n",
    "    print('RMSE', np.sqrt(np.mean((Y_test - Y_pred_test) ** 2)))\n",
    "\n",
    "\n",
    "polyfit(df_sfe.fare_evasion, df_bfe.fare_evasion)"
   ]
  },
  {
   "cell_type": "code",
   "execution_count": null,
   "id": "267dc8d4-245e-4d66-a757-52e7771433e0",
   "metadata": {},
   "outputs": [],
   "source": []
  },
  {
   "cell_type": "code",
   "execution_count": null,
   "id": "a71990f6-4c4b-4bad-8402-bce9ba36bf1a",
   "metadata": {},
   "outputs": [],
   "source": []
  },
  {
   "cell_type": "code",
   "execution_count": null,
   "id": "bc6f3e1e-e441-4c2a-8b7e-ab1a02d97d12",
   "metadata": {},
   "outputs": [],
   "source": []
  },
  {
   "cell_type": "code",
   "execution_count": 2827,
   "id": "ead99099-9982-457c-87d3-231982c0e3c0",
   "metadata": {},
   "outputs": [],
   "source": [
    "# temp_1 = aggregate_by_timeframe(df_bfe, 'monthly', 'mean')\n",
    "# df_0 = rolling_average(temp_1.fare_evasion, 10)\n",
    "# plt.plot(temp_1.time_period, df_0)\n",
    "\n",
    "# temp = aggregate_by_timeframe(df_sfe, 'monthly', 'mean')\n",
    "# df_1 =  rolling_average(temp.fare_evasion, 10)\n",
    "# plt.plot(temp.time_period, df_1)\n",
    "\n",
    "# polyfit(df_1, df_0)"
   ]
  },
  {
   "cell_type": "code",
   "execution_count": null,
   "id": "3531206e-e5db-4a5f-a139-d92f9dfe68d1",
   "metadata": {},
   "outputs": [],
   "source": []
  },
  {
   "cell_type": "code",
   "execution_count": null,
   "id": "9b829d8a-dfe3-4b33-a123-0708a9ca0774",
   "metadata": {},
   "outputs": [],
   "source": []
  },
  {
   "cell_type": "code",
   "execution_count": null,
   "id": "134d0181-6ed5-430e-925f-ca745e015bdf",
   "metadata": {},
   "outputs": [],
   "source": []
  },
  {
   "cell_type": "code",
   "execution_count": null,
   "id": "0ef1276d-9a40-4fab-8bf0-600af0e5ad6b",
   "metadata": {},
   "outputs": [],
   "source": []
  },
  {
   "cell_type": "code",
   "execution_count": null,
   "id": "4468acfc-94d1-4123-9f2f-80387457fd1e",
   "metadata": {},
   "outputs": [],
   "source": []
  },
  {
   "cell_type": "code",
   "execution_count": null,
   "id": "5b6c98ab-7926-4c0d-bfde-c157777c6012",
   "metadata": {},
   "outputs": [],
   "source": []
  },
  {
   "cell_type": "code",
   "execution_count": null,
   "id": "bbd03a3f-0656-46a2-8c66-f1ddcda43604",
   "metadata": {},
   "outputs": [],
   "source": []
  },
  {
   "cell_type": "code",
   "execution_count": null,
   "id": "7d194184-9e3e-4cb2-9c97-90876a8f7ba8",
   "metadata": {},
   "outputs": [],
   "source": []
  },
  {
   "cell_type": "code",
   "execution_count": null,
   "id": "460dc1d6-fea2-43b0-855b-6c25b3f0b159",
   "metadata": {},
   "outputs": [],
   "source": []
  },
  {
   "cell_type": "code",
   "execution_count": null,
   "id": "d0602e5d-ba44-4346-9aca-17bf63c9acc3",
   "metadata": {},
   "outputs": [],
   "source": []
  },
  {
   "cell_type": "code",
   "execution_count": null,
   "id": "75e9e07a-0fd3-489d-aea9-8fc684ab7b0a",
   "metadata": {},
   "outputs": [],
   "source": []
  },
  {
   "cell_type": "code",
   "execution_count": null,
   "id": "8a0f2caf-f195-4e02-b69f-fdd48e83c4e5",
   "metadata": {},
   "outputs": [],
   "source": []
  },
  {
   "cell_type": "code",
   "execution_count": null,
   "id": "d2067ef4-b82a-425b-bf8c-88e9620d77bf",
   "metadata": {},
   "outputs": [],
   "source": []
  },
  {
   "cell_type": "code",
   "execution_count": null,
   "id": "e62aadf7-5544-4669-8f6d-64a642cc6ab2",
   "metadata": {},
   "outputs": [],
   "source": []
  },
  {
   "cell_type": "code",
   "execution_count": null,
   "id": "33445383-c9b1-4aa3-866a-0347d19f8599",
   "metadata": {},
   "outputs": [],
   "source": []
  },
  {
   "cell_type": "code",
   "execution_count": null,
   "id": "919ce97f-eae9-416e-ba8d-bb5987f8c1ee",
   "metadata": {},
   "outputs": [],
   "source": []
  },
  {
   "cell_type": "code",
   "execution_count": null,
   "id": "ca65b84a-e667-467d-a68e-bfbbc789a3d9",
   "metadata": {},
   "outputs": [],
   "source": []
  },
  {
   "cell_type": "code",
   "execution_count": null,
   "id": "0b05bf85-190f-4f51-9494-760d2b72c8d9",
   "metadata": {},
   "outputs": [],
   "source": []
  },
  {
   "cell_type": "code",
   "execution_count": null,
   "id": "c999136f-033c-4a11-8c55-19688827358d",
   "metadata": {},
   "outputs": [],
   "source": []
  },
  {
   "cell_type": "code",
   "execution_count": null,
   "id": "f35db04d-2987-49c3-9f09-d61c57e8f74b",
   "metadata": {},
   "outputs": [],
   "source": []
  },
  {
   "cell_type": "code",
   "execution_count": null,
   "id": "065f9b3a-7dfe-451a-8572-0d81b85c8721",
   "metadata": {},
   "outputs": [],
   "source": []
  },
  {
   "cell_type": "code",
   "execution_count": null,
   "id": "77b2e287-05a2-44bb-8868-7ccbc05a7728",
   "metadata": {},
   "outputs": [],
   "source": []
  },
  {
   "cell_type": "code",
   "execution_count": null,
   "id": "dead6697-08da-43d1-a659-c0b200d70563",
   "metadata": {},
   "outputs": [],
   "source": []
  },
  {
   "cell_type": "code",
   "execution_count": null,
   "id": "eec35848-ae6e-4541-bd4e-0fdd9a102675",
   "metadata": {},
   "outputs": [],
   "source": []
  },
  {
   "cell_type": "code",
   "execution_count": 1678,
   "id": "938561f5-1e38-44b8-8d2c-857033f2f926",
   "metadata": {},
   "outputs": [],
   "source": [
    "import requests\n",
    "from bs4 import BeautifulSoup\n",
    "import newspaper\n",
    "from tqdm import tqdm\n",
    "\n",
    "\n",
    "def get_articles_by_query(query: str, start: str, end: str, page: int=0):\n",
    "    \"\"\"\n",
    "    gets all relevant news articles by query (google search), returns articles between start and end dates 'YYYY-MM-DD'\n",
    "    recalls itself if search results == 10: an indication that there are more results next page\n",
    "    \n",
    "    ***WARNING: DO NOT CALL UNNECESSARILY - GOOGLE MAY IP-BAN BOT ACTIVITY; BE MINDFUL OF FREQUENT USE***\n",
    "\n",
    "    \"\"\"\n",
    "    url = f'https://www.google.com/search?q={'+'.join(query.split())}+after:{start}+before:{end}+&tbm=nws&start={page * 10}'\n",
    "    response = requests.get(url)\n",
    "    soup = BeautifulSoup(response.content, 'html.parser')\n",
    "    articles = []\n",
    "    \n",
    "    for link in soup.find_all('a'):\n",
    "        weblink = str(link['href'])\n",
    "        if weblink[:15] == '/url?q=https://' and '.google.com' not in weblink:\n",
    "            articles.append(weblink[7:].split('&')[0])\n",
    "\n",
    "    if len(articles) == 0:\n",
    "        return []\n",
    "    articles.extend(get_articles_by_query(query, start, end, page + 1))\n",
    "    return articles\n",
    "\n",
    "\n",
    "def get_articles_df(articles, drop_unfound_published_timestamp=True):\n",
    "    \"\"\"\n",
    "    converts a list of articles into a pandas DataFrame through newspaper3k\n",
    "    some articles (~10%) cannot be parsed for unknown reason, TODO\n",
    "    some articles (~30%) could be parsed but their published_date cannot be automatically collected\n",
    "    \"\"\"\n",
    "    ret_dict = {'title': [],  'timestamp': [], 'text': [], 'link': []}\n",
    "    for index in tqdm(range(len(articles))):\n",
    "        try:\n",
    "            article = newspaper.Article(articles[index])\n",
    "            article.download()\n",
    "            article.parse()\n",
    "            article.nlp()\n",
    "\n",
    "            if article.title == 'Are you a robot?': continue\n",
    "            \n",
    "            ret_dict['title'].append(article.title)\n",
    "            ret_dict['timestamp'].append(article.publish_date)\n",
    "            ret_dict['text'].append(article.summary)\n",
    "            ret_dict['link'].append(articles[index])\n",
    "        \n",
    "        except Exception as e:\n",
    "            pass\n",
    "\n",
    "    df = pd.DataFrame(ret_dict)\n",
    "    df.drop_duplicates(inplace=True)\n",
    "    if drop_unfound_published_timestamp:\n",
    "        df = df.dropna().reset_index(drop=True)\n",
    "    return df\n",
    "    "
   ]
  },
  {
   "cell_type": "code",
   "execution_count": 1874,
   "id": "9fa5a246-b1e2-4b9d-986d-f9e60deb3dbb",
   "metadata": {},
   "outputs": [
    {
     "name": "stdout",
     "output_type": "stream",
     "text": [
      "27.45174741744995\n"
     ]
    }
   ],
   "source": [
    "import time\n",
    "\n",
    "start = time.time()\n",
    "\n",
    "articles = get_articles_by_query('MTA COVID', start='2018-01-01', end='2024-12-01')\n",
    "\n",
    "print(time.time() - start)"
   ]
  },
  {
   "cell_type": "code",
   "execution_count": 1875,
   "id": "72c14c54-c1cb-454c-a423-1c13129083aa",
   "metadata": {},
   "outputs": [
    {
     "name": "stderr",
     "output_type": "stream",
     "text": [
      "100%|████████████████████████████████████████████████████████████████████████████████| 242/242 [03:35<00:00,  1.12it/s]\n"
     ]
    },
    {
     "data": {
      "text/plain": [
       "184"
      ]
     },
     "execution_count": 1875,
     "metadata": {},
     "output_type": "execute_result"
    }
   ],
   "source": [
    "df = get_articles_df(articles)\n",
    "len(df)"
   ]
  },
  {
   "cell_type": "code",
   "execution_count": null,
   "id": "ba1b8816-b770-493a-b264-05b9b3df0993",
   "metadata": {},
   "outputs": [],
   "source": []
  },
  {
   "cell_type": "code",
   "execution_count": null,
   "id": "ab86679b-f04b-4994-a269-1b2df34c2a9c",
   "metadata": {},
   "outputs": [],
   "source": []
  },
  {
   "cell_type": "code",
   "execution_count": null,
   "id": "cb22dd3f-39b7-4b9d-88b4-04e0b6cc1ab3",
   "metadata": {},
   "outputs": [],
   "source": []
  },
  {
   "cell_type": "code",
   "execution_count": null,
   "id": "a6aa8ecf-da81-4676-bc20-1e228349c6ed",
   "metadata": {},
   "outputs": [],
   "source": []
  },
  {
   "cell_type": "code",
   "execution_count": null,
   "id": "36f09047-d662-4635-8b25-6b8a84e547cf",
   "metadata": {},
   "outputs": [],
   "source": []
  },
  {
   "cell_type": "code",
   "execution_count": null,
   "id": "4ff5af84-05cd-470e-8071-e43c8977b95c",
   "metadata": {},
   "outputs": [],
   "source": []
  },
  {
   "cell_type": "code",
   "execution_count": null,
   "id": "0f677916-09aa-4a03-9a02-be1fbaf677ab",
   "metadata": {},
   "outputs": [],
   "source": []
  },
  {
   "cell_type": "code",
   "execution_count": null,
   "id": "e48e0f72-3c89-4dcb-924e-eadb9656bc23",
   "metadata": {},
   "outputs": [],
   "source": []
  },
  {
   "cell_type": "code",
   "execution_count": null,
   "id": "8bdc2d09-d6d8-4cc2-b933-e49bc408696e",
   "metadata": {},
   "outputs": [],
   "source": []
  },
  {
   "cell_type": "code",
   "execution_count": null,
   "id": "ed46692a-7d4e-438a-a3b9-536ffc87edf7",
   "metadata": {},
   "outputs": [],
   "source": []
  },
  {
   "cell_type": "code",
   "execution_count": null,
   "id": "49509294-ebd8-4253-a54f-dfbf5243d2bf",
   "metadata": {},
   "outputs": [],
   "source": []
  },
  {
   "cell_type": "code",
   "execution_count": null,
   "id": "625f3d66-60b6-4ab4-8597-42b1498da8d9",
   "metadata": {},
   "outputs": [],
   "source": []
  },
  {
   "cell_type": "code",
   "execution_count": null,
   "id": "304cce3e-9457-4e6f-ba48-4bc48435aadc",
   "metadata": {},
   "outputs": [],
   "source": []
  },
  {
   "cell_type": "code",
   "execution_count": null,
   "id": "d37a18c9-85fd-4132-a5f5-0a978a17c3b3",
   "metadata": {},
   "outputs": [],
   "source": []
  },
  {
   "cell_type": "code",
   "execution_count": null,
   "id": "657de187-bf49-4a80-8220-9e11062d5fcb",
   "metadata": {},
   "outputs": [],
   "source": []
  },
  {
   "cell_type": "code",
   "execution_count": null,
   "id": "6bde1023-769d-4233-b9fb-90270c67b5cf",
   "metadata": {},
   "outputs": [],
   "source": []
  },
  {
   "cell_type": "code",
   "execution_count": null,
   "id": "3a06f830-0432-4dc0-a42c-59df5875dcb6",
   "metadata": {},
   "outputs": [],
   "source": []
  },
  {
   "cell_type": "code",
   "execution_count": null,
   "id": "422e9fad-5279-4507-809c-99d1fe703dd9",
   "metadata": {},
   "outputs": [],
   "source": []
  },
  {
   "cell_type": "code",
   "execution_count": null,
   "id": "6a711a8f-cd1b-4922-8cf3-bf06f4d18dfc",
   "metadata": {},
   "outputs": [],
   "source": []
  },
  {
   "cell_type": "code",
   "execution_count": null,
   "id": "8ccb42c4-2b51-4399-8977-68b4ddfed191",
   "metadata": {},
   "outputs": [],
   "source": []
  },
  {
   "cell_type": "code",
   "execution_count": null,
   "id": "b7c79f41-d920-4e69-80f2-ff7d0ba35d76",
   "metadata": {},
   "outputs": [],
   "source": []
  },
  {
   "cell_type": "code",
   "execution_count": null,
   "id": "b6e8e552-c9b5-43ee-97f8-992ded5294fe",
   "metadata": {},
   "outputs": [],
   "source": []
  },
  {
   "cell_type": "code",
   "execution_count": null,
   "id": "f284102a-22e8-40e8-91c6-f896f5da50c9",
   "metadata": {},
   "outputs": [],
   "source": []
  },
  {
   "cell_type": "code",
   "execution_count": null,
   "id": "13587f99-193c-41a2-83da-fcf6fa29f0bd",
   "metadata": {},
   "outputs": [],
   "source": []
  },
  {
   "cell_type": "code",
   "execution_count": null,
   "id": "a6634d84-468e-4263-b3df-55e2b06bbe17",
   "metadata": {},
   "outputs": [],
   "source": []
  },
  {
   "cell_type": "code",
   "execution_count": null,
   "id": "16d5d144-1faa-44e4-ae0c-39385e16d99f",
   "metadata": {},
   "outputs": [],
   "source": []
  },
  {
   "cell_type": "code",
   "execution_count": 2767,
   "id": "e3e3e269-eefa-4150-a51e-5b955204bfa2",
   "metadata": {},
   "outputs": [],
   "source": [
    "import numpy as np\n",
    "from scipy import stats\n",
    "import matplotlib.pyplot as plt\n",
    "import pandas as pd \n",
    "import sqlite3\n",
    "import os\n",
    "from sklearn.model_selection import train_test_split\n",
    "from sklearn.linear_model import LinearRegression\n",
    "from sklearn.metrics import r2_score\n",
    "from statsmodels.stats.power import TTestPower, TTestIndPower, FTestAnovaPower, GofChisquarePower\n",
    "\n",
    "\n",
    "def func_8(a, b):\n",
    "    a = np.array(a).reshape(-1, 1)\n",
    "    b = np.array(b).reshape(-1, 1)\n",
    "    X_train, X_test, Y_train, Y_test = train_test_split(a, b, test_size=0.2, random_state=13542009)\n",
    "    \n",
    "    linreg = LinearRegression()\n",
    "    linreg.fit(X_train, Y_train)\n",
    "    \n",
    "    Y_pred_train = linreg.predict(X_train)\n",
    "    Y_pred_test = linreg.predict(X_test)\n",
    "\n",
    "    print('Coefficients:', linreg.coef_[0])\n",
    "    print('Intercept:', linreg.intercept_)\n",
    "\n",
    "    plt.scatter(X_test, Y_test)\n",
    "    \n",
    "    def abline(slope, intercept):\n",
    "        x_vals = np.array((X_test.min(), X_test.max()))\n",
    "        y_vals = intercept + slope * x_vals\n",
    "        plt.plot(x_vals, y_vals, '--')\n",
    "\n",
    "    abline(linreg.coef_[0], linreg.intercept_)\n",
    "        \n",
    "    r2 = r2_score(Y_test, Y_pred_test)\n",
    "    print('R^2:', r2)\n",
    "    print('RMSE', np.sqrt(np.mean((Y_test - Y_pred_test) ** 2)))\n",
    "    \n",
    "\n",
    "def preprocess_text(text):\n",
    "    tokens = word_tokenize(text.lower())\n",
    "    filtered_tokens = [token for token in tokens if token not in stopwords.words('english')]\n",
    "    lemmatizer = WordNetLemmatizer()\n",
    "    lemmatized_tokens = [lemmatizer.lemmatize(token) for token in filtered_tokens]\n",
    "    processed_text = ' '.join(lemmatized_tokens)\n",
    "    return processed_text\n",
    "\n",
    "\n",
    "def func(df_main, df, typ=''):\n",
    "    a, b = [], []\n",
    "    d_col, v_col = df_main.columns[:2]\n",
    "    for ind in range(len(df)):\n",
    "        r = df_main[df_main[d_col] == datetime(*tuple(df.iloc[ind].timestamp.timetuple())[:3])]\n",
    "        if r.empty:\n",
    "            \n",
    "            continue\n",
    "        a.append(r[v_col].values[0])\n",
    "        b.append(df.iloc[ind][typ])\n",
    "    return a, b\n",
    "\n",
    "\n",
    "def func_1(a, b):\n",
    "\n",
    "    c, d = [], []\n",
    "    for ind in range(len(a)):\n",
    "        if b[ind] == 0:\n",
    "            c.append(a[ind])\n",
    "        else:\n",
    "            d.append(a[ind])\n",
    "    \n",
    "    plt.hist(c, bins=20, alpha=0.6, color='red', label='Group 1')\n",
    "    plt.hist(d, bins=20, alpha=0.6, color='blue', label='Group 2')\n",
    "    plt.legend()\n",
    "\n",
    "    print(stats.mannwhitneyu(c, d, alternative='two-sided'))\n",
    "    # print('Statistical power is', calculate_power('mwu', [males, females], alpha=0.005))"
   ]
  },
  {
   "cell_type": "code",
   "execution_count": 1878,
   "id": "95c7ae7d-d9e6-45d7-8a95-58f4c4a24aab",
   "metadata": {},
   "outputs": [],
   "source": [
    "# df['text'] = df['text'].apply(preprocess_text)\n",
    "\n",
    "\n",
    "analyzer = SentimentIntensityAnalyzer()\n",
    "\n",
    "\n",
    "def get_pos_sentiment(text):\n",
    "    return analyzer.polarity_scores(text)['pos']\n",
    "    \n",
    "def get_neg_sentiment(text):\n",
    "    return analyzer.polarity_scores(text)['neg']\n",
    "\n",
    "\n",
    "df['pos'] = (df['text']).apply(get_pos_sentiment)\n",
    "df['neg'] = (df['text']).apply(get_neg_sentiment)"
   ]
  },
  {
   "cell_type": "code",
   "execution_count": null,
   "id": "737c035c-3866-4cd7-a4bd-56d34d666820",
   "metadata": {},
   "outputs": [],
   "source": []
  },
  {
   "cell_type": "code",
   "execution_count": 1881,
   "id": "58be0885-756e-41a0-818f-6a2b584bddc0",
   "metadata": {},
   "outputs": [],
   "source": [
    "df['SENTIMENT'] = ((df.pos > df.neg) & ((df.neg != 0) & (df.pos != 0))).astype(int)"
   ]
  },
  {
   "cell_type": "code",
   "execution_count": null,
   "id": "be702287-a382-488b-8e8c-61331a62d57f",
   "metadata": {},
   "outputs": [],
   "source": []
  },
  {
   "cell_type": "code",
   "execution_count": 2817,
   "id": "d4104583-e4bd-4041-a593-42959e3dd66f",
   "metadata": {},
   "outputs": [
    {
     "name": "stdout",
     "output_type": "stream",
     "text": [
      "Coefficients: [924126.14989811]\n",
      "Intercept: [2158959.03409973]\n",
      "R^2: -0.045741147377835745\n",
      "RMSE 884166.6233550019\n"
     ]
    },
    {
     "data": {
      "image/png": "[encoded data removed]",
      "text/plain": [
       "<Figure size 640x480 with 1 Axes>"
      ]
     },
     "metadata": {},
     "output_type": "display_data"
    }
   ],
   "source": [
    "a, b = func(df_ridership, df, 'pos')\n",
    "func_8(b, a)"
   ]
  },
  {
   "cell_type": "code",
   "execution_count": 2778,
   "id": "9ba0d5ac-e00e-43c0-a260-e16bc491e42a",
   "metadata": {},
   "outputs": [
    {
     "name": "stdout",
     "output_type": "stream",
     "text": [
      "Coefficients: [2220814.29486394]\n",
      "Intercept: [2106035.83184262]\n",
      "R^2: -0.1157078727666685\n",
      "RMSE 913265.9524641907\n"
     ]
    },
    {
     "data": {
      "image/png": "[encoded data removed]",
      "text/plain": [
       "<Figure size 640x480 with 1 Axes>"
      ]
     },
     "metadata": {},
     "output_type": "display_data"
    }
   ],
   "source": [
    "a, b = func(df_ridership, df, 'neg')\n",
    "func_8(b, a)"
   ]
  },
  {
   "cell_type": "code",
   "execution_count": 2780,
   "id": "a84e27e0-ead3-4be6-9080-e83d59dfe845",
   "metadata": {},
   "outputs": [
    {
     "name": "stdout",
     "output_type": "stream",
     "text": [
      "Coefficients: [-32437.96153846]\n",
      "Intercept: [2231583.21153846]\n",
      "R^2: -0.058249425225568974\n",
      "RMSE 889438.7345807718\n"
     ]
    },
    {
     "data": {
      "image/png": "[encoded data removed]",
      "text/plain": [
       "<Figure size 640x480 with 1 Axes>"
      ]
     },
     "metadata": {},
     "output_type": "display_data"
    }
   ],
   "source": [
    "a, b = func(df_ridership, df, 'SENTIMENT')\n",
    "func_8(b, a)"
   ]
  },
  {
   "cell_type": "code",
   "execution_count": 2782,
   "id": "46934eb7-d9f1-4008-94eb-2569eec448fa",
   "metadata": {},
   "outputs": [
    {
     "name": "stdout",
     "output_type": "stream",
     "text": [
      "MannwhitneyuResult(statistic=1476.5, pvalue=0.8278362721084616)\n"
     ]
    },
    {
     "data": {
      "image/png": "[encoded data removed]",
      "text/plain": [
       "<Figure size 640x480 with 1 Axes>"
      ]
     },
     "metadata": {},
     "output_type": "display_data"
    }
   ],
   "source": [
    "func_1(a, b)"
   ]
  },
  {
   "cell_type": "code",
   "execution_count": null,
   "id": "a77196b9-594e-4b54-b66f-3a732e3f0b2c",
   "metadata": {},
   "outputs": [],
   "source": []
  },
  {
   "cell_type": "code",
   "execution_count": null,
   "id": "f74b49ad-302e-44d6-8341-216e99621430",
   "metadata": {},
   "outputs": [],
   "source": []
  },
  {
   "cell_type": "code",
   "execution_count": null,
   "id": "7e2b42b0-2b92-418a-9939-c8cd05243def",
   "metadata": {},
   "outputs": [],
   "source": []
  },
  {
   "cell_type": "code",
   "execution_count": null,
   "id": "333fa8c6-d5db-4605-adfd-010246b5731e",
   "metadata": {},
   "outputs": [],
   "source": []
  },
  {
   "cell_type": "code",
   "execution_count": null,
   "id": "85f75ee4-1a0b-4ff5-90b5-5f7c85749f4a",
   "metadata": {},
   "outputs": [],
   "source": []
  }
 ],
 "metadata": {
  "kernelspec": {
   "display_name": "Python 3 (ipykernel)",
   "language": "python",
   "name": "python3"
  },
  "language_info": {
   "codemirror_mode": {
    "name": "ipython",
    "version": 3
   },
   "file_extension": ".py",
   "mimetype": "text/x-python",
   "name": "python",
   "nbconvert_exporter": "python",
   "pygments_lexer": "ipython3",
   "version": "3.12.4"
  }
 },
 "nbformat": 4,
 "nbformat_minor": 5
}
