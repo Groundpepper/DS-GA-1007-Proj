{
 "cells": [
  {
   "cell_type": "code",
   "execution_count": 730,
   "id": "02fe6b55-8465-47f4-b6b1-4ce9899f419d",
   "metadata": {},
   "outputs": [
    {
     "name": "stderr",
     "output_type": "stream",
     "text": [
      "WARNING:root:Requests made without an app_token will be subject to strict throttling limits.\n"
     ]
    }
   ],
   "source": [
    "import pandas as pd\n",
    "import warnings\n",
    "from sodapy import Socrata\n",
    "from datetime import datetime, timedelta\n",
    "import numpy as np\n",
    "import matplotlib.pyplot as plt\n",
    "\n",
    "\n",
    "client = Socrata(\"data.ny.gov\", None)\n",
    "\n",
    "ds_dictionary = {\n",
    "    'ridership': 'vxuj-8kew',\n",
    "    'subway hourly ridership': 'wujg-7c2s',\n",
    "    'bus hourly ridership': 'kv7t-n8in',\n",
    "    'major felonies': 'yeek-jhmu',\n",
    "    'summonses and arrests since 2019': '7tfn-twae'\n",
    "}\n",
    "\n",
    "time_column_dictionary = {'date', 'timestamp', 'month'}"
   ]
  },
  {
   "cell_type": "code",
   "execution_count": 1277,
   "id": "8094edf0-eee8-4813-acf4-099602f09b91",
   "metadata": {},
   "outputs": [],
   "source": [
    "def get_dataset(ds_name: str, begin: str=None, before: str=None) -> pd.DataFrame:\n",
    "    sample = client.get(ds_dictionary[ds_name], limit=1)\n",
    "    time_columns = [v for v in sample[0].keys() if v.lower().endswith(tuple(time_column_dictionary))]\n",
    "    \n",
    "    if len(time_columns) == 0:\n",
    "        warnings.warn(f'No time column found: {sample[0].keys}')\n",
    "        try:\n",
    "            res_dict = client.get_all(ds_dictionary[ds_name])\n",
    "            return pd.DataFrame.from_records(res_dict).dropna().reset_index(drop=True)\n",
    "        except Exception as e:\n",
    "            raise Exception(f\"Couldn't get all rows. Too many? {e}\")\n",
    "\n",
    "    if len(time_columns) > 1:\n",
    "        raise Exception(f'Too many time columns found: {sample.keys}')\n",
    "\n",
    "    time_column = time_columns[0]\n",
    "    where_string = f\"{time_column} >= '{begin}'\" if begin and not before else ''\n",
    "    where_string = f\"{time_column} < '{before}'\" if not begin and before else ''\n",
    "    where_string = f\"{time_column} >= '{begin}' AND {time_column} < '{before}'\" if begin and before else ''\n",
    "    res_dict = client.get_all(ds_dictionary[ds_name], where=where_string, order=f'{time_column} ASC')\n",
    "    return pd.DataFrame.from_records(res_dict).dropna().reset_index(drop=True)\n",
    "\n",
    "\n",
    "def aggregate_by_timeframe(df: pd.DataFrame, timeframe: str, typ: str) -> pd.DataFrame:\n",
    "    if timeframe not in ['hourly', 'daily', 'weekly', 'monthly']:\n",
    "        raise Exception(f'Invalid timeframe {timeframe}')\n",
    "    if typ not in ['mean', 'sum']:\n",
    "        raise Exception(f'Invalid type {typ}')\n",
    "    \n",
    "    time_columns = [v for v in df.columns if v.lower().endswith(tuple(time_column_dictionary))]\n",
    "    if len(time_columns) != 1:\n",
    "        raise Exception(f'Zero or more than one time column(s) found: {df.columns}')\n",
    "\n",
    "    time_column = time_columns[0]\n",
    "    df[time_column] = pd.to_datetime(df[time_column])\n",
    "    df = df.sort_values(by=time_column)\n",
    "\n",
    "    for column in df.columns:\n",
    "        if column != time_column:\n",
    "            try:\n",
    "                df[column] = df[column].astype(float)\n",
    "            except ValueError:\n",
    "                warnings.warn(f'Column {column} disregarded for having non-numeric values')\n",
    "            except TypeError:\n",
    "                warnings.warn(f'Column {column} disregarded for having non-numeric values')\n",
    "\n",
    "    df = df.set_index(time_column)\n",
    "    timeframe_dictionary = {'hourly': 'h', 'daily': 'd', 'weekly': 'W', 'monthly': 'ME'}\n",
    "\n",
    "    if typ == 'mean': return df.resample(timeframe_dictionary[timeframe]).mean(numeric_only=True).reset_index() \n",
    "    if typ == 'sum':return df.resample(timeframe_dictionary[timeframe]).sum(numeric_only=True).reset_index() \n"
   ]
  },
  {
   "cell_type": "code",
   "execution_count": 1285,
   "id": "ad0cef8e-a164-4eb1-a591-7b02ade94c04",
   "metadata": {},
   "outputs": [],
   "source": [
    "df = get_dataset('ridership')"
   ]
  },
  {
   "cell_type": "code",
   "execution_count": 1314,
   "id": "85980a32-d220-46bd-991d-389eb6704673",
   "metadata": {},
   "outputs": [],
   "source": [
    "df_agg = aggregate_by_timeframe(df, 'monthly', 'sum')"
   ]
  },
  {
   "cell_type": "code",
   "execution_count": 1316,
   "id": "3e985505-6498-4c79-90a5-d4a0b327b401",
   "metadata": {},
   "outputs": [
    {
     "data": {
      "text/plain": [
       "[<matplotlib.lines.Line2D at 0x206c0879f70>]"
      ]
     },
     "execution_count": 1316,
     "metadata": {},
     "output_type": "execute_result"
    },
    {
     "data": {
      "image/png": "[encoded data removed]",
      "text/plain": [
       "<Figure size 640x480 with 1 Axes>"
      ]
     },
     "metadata": {},
     "output_type": "display_data"
    }
   ],
   "source": [
    "plt.plot(df_agg.date[:-1], df_agg.subways_total_estimated_ridership[:-1])"
   ]
  },
  {
   "cell_type": "code",
   "execution_count": null,
   "id": "d72a6213-93fb-4bd4-8908-c288af80f756",
   "metadata": {},
   "outputs": [],
   "source": []
  },
  {
   "cell_type": "code",
   "execution_count": null,
   "id": "8397da73-3179-4e43-b752-92c731de59e9",
   "metadata": {},
   "outputs": [],
   "source": []
  },
  {
   "cell_type": "code",
   "execution_count": null,
   "id": "4ff1a7a2-5b2e-4ae9-8830-b72fd84cd904",
   "metadata": {},
   "outputs": [],
   "source": []
  },
  {
   "cell_type": "code",
   "execution_count": null,
   "id": "0bbffc85-33ef-47b9-8b81-7cf5c4856b8e",
   "metadata": {},
   "outputs": [],
   "source": []
  }
 ],
 "metadata": {
  "kernelspec": {
   "display_name": "Python 3 (ipykernel)",
   "language": "python",
   "name": "python3"
  },
  "language_info": {
   "codemirror_mode": {
    "name": "ipython",
    "version": 3
   },
   "file_extension": ".py",
   "mimetype": "text/x-python",
   "name": "python",
   "nbconvert_exporter": "python",
   "pygments_lexer": "ipython3",
   "version": "3.12.4"
  }
 },
 "nbformat": 4,
 "nbformat_minor": 5
}
