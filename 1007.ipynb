{
 "cells": [
  {
   "cell_type": "code",
   "execution_count": 236,
   "id": "02fe6b55-8465-47f4-b6b1-4ce9899f419d",
   "metadata": {},
   "outputs": [
    {
     "name": "stderr",
     "output_type": "stream",
     "text": [
      "WARNING:root:Requests made without an app_token will be subject to strict throttling limits.\n"
     ]
    }
   ],
   "source": [
    "import pandas as pd\n",
    "import warnings\n",
    "from sodapy import Socrata\n",
    "from datetime import datetime, timedelta\n",
    "from dateutil.relativedelta import relativedelta\n",
    "import numpy as np\n",
    "import matplotlib.pyplot as plt\n",
    "\n",
    "\n",
    "MTA_client = Socrata(\"data.ny.gov\", None)\n",
    "\n",
    "ds_dictionary = {\n",
    "    'ridership': 'vxuj-8kew',\n",
    "    'subway hourly ridership': 'wujg-7c2s',\n",
    "    'bus hourly ridership': 'kv7t-n8in',\n",
    "    'major felonies': 'yeek-jhmu',\n",
    "    'summonses and arrests': '7tfn-twae'\n",
    "}"
   ]
  },
  {
   "cell_type": "code",
   "execution_count": 238,
   "id": "8094edf0-eee8-4813-acf4-099602f09b91",
   "metadata": {},
   "outputs": [],
   "source": [
    "def get_dataset(ds_name: str, begin: str=None, before: str=None, MTA_client=None) -> pd.DataFrame:\n",
    "    \"\"\"\n",
    "    retrieves a pandas dataframe from a corresponding MTA data source\n",
    "    filters for optional start and end times; careful not passing any start or end times - over 100 million rows for hourly data\n",
    "    assumes the existence of MTA_client\n",
    "    \"\"\"\n",
    "    sample = MTA_client.get(ds_dictionary[ds_name], limit=1)\n",
    "    time_columns = [v for v in sample[0].keys() if v.lower().endswith(('date', 'timestamp', 'month'))]\n",
    "    if MTA_client is None: raise Exception('MTA_client not found; required for connection to data repository')\n",
    "    \n",
    "    if len(time_columns) == 0:\n",
    "        warnings.warn(f'No time column found: {sample[0].keys}')\n",
    "        try:\n",
    "            res_dict = MTA_client.get_all(ds_dictionary[ds_name])\n",
    "            return pd.DataFrame.from_records(res_dict).dropna().reset_index(drop=True)\n",
    "        except Exception as e:\n",
    "            raise Exception(f\"Couldn't get all rows. Too many? {e}\")\n",
    "\n",
    "    if len(time_columns) > 1:\n",
    "        raise Exception(f'Too many time columns found: {sample.keys}')\n",
    "\n",
    "    time_column = time_columns[0]\n",
    "    where_string = f\"{time_column} >= '{begin}'\" if begin and not before else ''\n",
    "    where_string = f\"{time_column} < '{before}'\" if not begin and before else ''\n",
    "    where_string = f\"{time_column} >= '{begin}' AND {time_column} < '{before}'\" if begin and before else ''\n",
    "    res_dict = MTA_client.get_all(ds_dictionary[ds_name], where=where_string, order=f'{time_column} ASC')\n",
    "    return pd.DataFrame.from_records(res_dict).dropna().reset_index(drop=True)\n",
    "\n",
    "\n",
    "def rid_irrelevant_criteria(df: pd.DataFrame, kept: dict) -> pd.DataFrame:\n",
    "    \"\"\"\n",
    "    for a given pandas dataframe, drop column values that match a list of kept values\n",
    "    ie., kept: {'metrics': 'Arrests'} -> all rows w/o 'Arrests' for 'metrics' column are dropped\n",
    "    \"\"\"\n",
    "    keys = set(kept.keys())\n",
    "    if keys.intersection(set(df.columns)) != keys:\n",
    "        raise Exception(f'Kept columns not found in dataframe: {keys.intersection(set(df.columns))}')\n",
    "    for key in keys:\n",
    "        if set(df[key].unique()).intersection(kept[key]) != kept[key]:\n",
    "            raise Exception(f'At least one kept value from column {key} DNE: {kept[key]}') \n",
    "    \n",
    "    for key in keys: \n",
    "        df = df.where(df[key].isin(kept[key])).dropna().reset_index(drop=True)\n",
    "    return df\n",
    "\n",
    "\n",
    "def aggregate_by_timeframe(df: pd.DataFrame, timeframe: str, typ: str) -> pd.DataFrame:\n",
    "    \"\"\"\n",
    "    aggregates a timeframe by timeframe; results are summed or averaged\n",
    "    \"\"\"\n",
    "    if timeframe not in ['hourly', 'daily', 'weekly', 'monthly']:\n",
    "        raise Exception(f'Invalid timeframe {timeframe}')\n",
    "    if typ not in ['mean', 'sum']:\n",
    "        raise Exception(f'Invalid type {typ}')\n",
    "    \n",
    "    time_columns = [v for v in df.columns if v.lower().endswith(('date', 'timestamp', 'month'))]\n",
    "    if len(time_columns) != 1:\n",
    "        raise Exception(f'Zero or more than one time column(s) found: {df.columns}')\n",
    "\n",
    "    time_column = time_columns[0]\n",
    "    df[time_column] = pd.to_datetime(df[time_column])\n",
    "    df = df.sort_values(by=time_column)\n",
    "\n",
    "    for column in df.columns:\n",
    "        if column != time_column:\n",
    "            try:\n",
    "                df[column] = df[column].astype(float)\n",
    "            except ValueError:\n",
    "                warnings.warn(f'Column {column} disregarded for having non-numeric values')\n",
    "            except TypeError:\n",
    "                warnings.warn(f'Column {column} disregarded for having non-numeric values')\n",
    "\n",
    "    df = df.set_index(time_column)\n",
    "    timeframe_dictionary = {'hourly': 'h', 'daily': 'd', 'weekly': 'W', 'monthly': 'ME'}\n",
    "\n",
    "    if typ == 'mean': return df.resample(timeframe_dictionary[timeframe]).mean(numeric_only=True).reset_index() \n",
    "    if typ == 'sum': return df.resample(timeframe_dictionary[timeframe]).sum(numeric_only=True).reset_index() \n"
   ]
  },
  {
   "cell_type": "code",
   "execution_count": 242,
   "id": "ad0cef8e-a164-4eb1-a591-7b02ade94c04",
   "metadata": {},
   "outputs": [],
   "source": [
    "df_crimes = get_dataset('summonses and arrests', MTA_client=MTA_client)\n",
    "df_crimes = rid_irrelevant_criteria(df_crimes,\n",
    "        {'metric': {\n",
    "            'Fare Evasion Arrests',\n",
    "            'Fare Evasion Criminal Summons',\n",
    "            'Fare Evasion TABS Summons',\n",
    "            'Fare Evasion Summons'}})"
   ]
  },
  {
   "cell_type": "code",
   "execution_count": 259,
   "id": "0bbffc85-33ef-47b9-8b81-7cf5c4856b8e",
   "metadata": {},
   "outputs": [
    {
     "name": "stderr",
     "output_type": "stream",
     "text": [
      "C:\\Users\\zclle\\AppData\\Local\\Temp\\ipykernel_31088\\658531659.py:69: UserWarning: Column agency disregarded for having non-numeric values\n",
      "  warnings.warn(f'Column {column} disregarded for having non-numeric values')\n",
      "C:\\Users\\zclle\\AppData\\Local\\Temp\\ipykernel_31088\\658531659.py:69: UserWarning: Column police_force disregarded for having non-numeric values\n",
      "  warnings.warn(f'Column {column} disregarded for having non-numeric values')\n",
      "C:\\Users\\zclle\\AppData\\Local\\Temp\\ipykernel_31088\\658531659.py:69: UserWarning: Column metric disregarded for having non-numeric values\n",
      "  warnings.warn(f'Column {column} disregarded for having non-numeric values')\n"
     ]
    },
    {
     "data": {
      "text/plain": [
       "<matplotlib.lines.Line2D at 0x1e2031a7d70>"
      ]
     },
     "execution_count": 259,
     "metadata": {},
     "output_type": "execute_result"
    },
    {
     "data": {
      "image/png": "[encoded data removed]",
      "text/plain": [
       "<Figure size 640x480 with 1 Axes>"
      ]
     },
     "metadata": {},
     "output_type": "display_data"
    }
   ],
   "source": [
    "df_crimes_agg = aggregate_by_timeframe(df_crimes, 'monthly', 'sum')\n",
    "plt.plot(df_crimes_agg.month, df_crimes_agg.total)\n",
    "plt.axvline(datetime.strptime('2024-08-14', '%Y-%m-%d'), color='red')"
   ]
  },
  {
   "cell_type": "code",
   "execution_count": 254,
   "id": "919ce97f-eae9-416e-ba8d-bb5987f8c1ee",
   "metadata": {},
   "outputs": [],
   "source": []
  },
  {
   "cell_type": "code",
   "execution_count": null,
   "id": "ca65b84a-e667-467d-a68e-bfbbc789a3d9",
   "metadata": {},
   "outputs": [],
   "source": []
  },
  {
   "cell_type": "code",
   "execution_count": null,
   "id": "0b05bf85-190f-4f51-9494-760d2b72c8d9",
   "metadata": {},
   "outputs": [],
   "source": []
  },
  {
   "cell_type": "code",
   "execution_count": null,
   "id": "c999136f-033c-4a11-8c55-19688827358d",
   "metadata": {},
   "outputs": [],
   "source": []
  },
  {
   "cell_type": "code",
   "execution_count": null,
   "id": "f35db04d-2987-49c3-9f09-d61c57e8f74b",
   "metadata": {},
   "outputs": [],
   "source": []
  },
  {
   "cell_type": "code",
   "execution_count": null,
   "id": "065f9b3a-7dfe-451a-8572-0d81b85c8721",
   "metadata": {},
   "outputs": [],
   "source": []
  },
  {
   "cell_type": "code",
   "execution_count": null,
   "id": "77b2e287-05a2-44bb-8868-7ccbc05a7728",
   "metadata": {},
   "outputs": [],
   "source": []
  },
  {
   "cell_type": "code",
   "execution_count": null,
   "id": "dead6697-08da-43d1-a659-c0b200d70563",
   "metadata": {},
   "outputs": [],
   "source": []
  },
  {
   "cell_type": "code",
   "execution_count": null,
   "id": "eec35848-ae6e-4541-bd4e-0fdd9a102675",
   "metadata": {},
   "outputs": [],
   "source": []
  },
  {
   "cell_type": "code",
   "execution_count": 304,
   "id": "938561f5-1e38-44b8-8d2c-857033f2f926",
   "metadata": {},
   "outputs": [],
   "source": [
    "import requests\n",
    "from bs4 import BeautifulSoup\n",
    "import newspaper\n",
    "from tqdm import tqdm\n",
    "\n",
    "\n",
    "def get_articles_by_query(query: str, start: str, end: str, page: int=0):\n",
    "    \"\"\"\n",
    "    gets all relevant news articles by query (google search), returns articles between start and end dates 'YYYY-MM-DD'\n",
    "    recalls itself if search results == 10: an indication that there are more results next page\n",
    "    \n",
    "    ***WARNING: DO NOT CALL UNNECESSARILY - GOOGLE MAY IP-BAN BOT ACTIVITY; BE MINDFUL OF FREQUENT USE***\n",
    "\n",
    "    \"\"\"\n",
    "    url = f'https://www.google.com/search?q={'+'.join(query.split())}+after:{start}+before:{end}+&tbm=nws&start={page * 10}'\n",
    "    response = requests.get(url)\n",
    "    soup = BeautifulSoup(response.content, 'html.parser')\n",
    "    articles = []\n",
    "    \n",
    "    for link in soup.find_all('a'):\n",
    "        weblink = str(link['href'])\n",
    "        if weblink[:15] == '/url?q=https://' and '.google.com' not in weblink:\n",
    "            articles.append(weblink[7:].split('&')[0])\n",
    "\n",
    "    if len(articles) == 0:\n",
    "        return []\n",
    "    if len(articles) < 10:\n",
    "        return articles\n",
    "    articles.extend(get_articles_by_query(query, start, end, page + 1))\n",
    "    return articles\n",
    "\n",
    "\n",
    "def get_articles_df(articles, drop_unfound_published_timestamp=True):\n",
    "    \"\"\"\n",
    "    converts a list of articles into a pandas DataFrame through newspaper3k\n",
    "    some articles (~10%) cannot be parsed for unknown reason, TODO\n",
    "    some articles could be parsed but their published_date cannot be automatically collected\n",
    "    \"\"\"\n",
    "    ret_dict = {'title': [],  'timestamp': [], 'text': [], 'link': []}\n",
    "    for index in tqdm(range(len(articles))):\n",
    "        try:\n",
    "            article = newspaper.Article(articles[index])\n",
    "            article.download()\n",
    "            article.parse()\n",
    "    \n",
    "            ret_dict['title'].append(article.title)\n",
    "            ret_dict['timestamp'].append(article.publish_date)\n",
    "            ret_dict['text'].append(article.text)\n",
    "            ret_dict['link'].append(articles[index])\n",
    "        \n",
    "        except Exception as e:\n",
    "            pass\n",
    "\n",
    "    df = pd.DataFrame(ret_dict)\n",
    "    if drop_unfound_published_timestamp:\n",
    "        df = df.dropna().reset_index(drop=True)\n",
    "    return df\n",
    "    "
   ]
  },
  {
   "cell_type": "code",
   "execution_count": 145,
   "id": "9fa5a246-b1e2-4b9d-986d-f9e60deb3dbb",
   "metadata": {},
   "outputs": [
    {
     "name": "stdout",
     "output_type": "stream",
     "text": [
      "16.37597680091858\n"
     ]
    }
   ],
   "source": [
    "import time\n",
    "\n",
    "start = time.time()\n",
    "\n",
    "articles = get_articles_by_query('MTA fare evasion', '2022-01-01', '2024-10-01')\n",
    "\n",
    "\n",
    "print(time.time() - start)"
   ]
  },
  {
   "cell_type": "code",
   "execution_count": null,
   "id": "72c14c54-c1cb-454c-a423-1c13129083aa",
   "metadata": {},
   "outputs": [
    {
     "name": "stderr",
     "output_type": "stream",
     "text": [
      " 79%|███████████████████████████████████████████████████████████████▏                | 240/304 [01:00<00:17,  3.56it/s]"
     ]
    }
   ],
   "source": [
    "df = get_articles_df(articles)"
   ]
  },
  {
   "cell_type": "code",
   "execution_count": null,
   "id": "032e629f-111e-400e-9f1d-5090b03c49ab",
   "metadata": {},
   "outputs": [],
   "source": [
    "df"
   ]
  },
  {
   "cell_type": "code",
   "execution_count": null,
   "id": "c7004237-59ed-47f4-9734-493456cf3fbd",
   "metadata": {},
   "outputs": [],
   "source": []
  },
  {
   "cell_type": "code",
   "execution_count": null,
   "id": "51fcc67e-1bb8-48dd-9dd9-9917562d36b0",
   "metadata": {},
   "outputs": [],
   "source": []
  },
  {
   "cell_type": "code",
   "execution_count": null,
   "id": "e3e3e269-eefa-4150-a51e-5b955204bfa2",
   "metadata": {},
   "outputs": [],
   "source": []
  },
  {
   "cell_type": "code",
   "execution_count": null,
   "id": "95c7ae7d-d9e6-45d7-8a95-58f4c4a24aab",
   "metadata": {},
   "outputs": [],
   "source": []
  }
 ],
 "metadata": {
  "kernelspec": {
   "display_name": "Python 3 (ipykernel)",
   "language": "python",
   "name": "python3"
  },
  "language_info": {
   "codemirror_mode": {
    "name": "ipython",
    "version": 3
   },
   "file_extension": ".py",
   "mimetype": "text/x-python",
   "name": "python",
   "nbconvert_exporter": "python",
   "pygments_lexer": "ipython3",
   "version": "3.12.4"
  }
 },
 "nbformat": 4,
 "nbformat_minor": 5
}
